{
 "cells": [
  {
   "cell_type": "code",
   "execution_count": 1,
   "metadata": {
    "ExecuteTime": {
     "end_time": "2019-08-14T03:38:50.500276Z",
     "start_time": "2019-08-14T03:38:50.498017Z"
    }
   },
   "outputs": [],
   "source": [
    "import time"
   ]
  },
  {
   "cell_type": "code",
   "execution_count": 4,
   "metadata": {
    "ExecuteTime": {
     "end_time": "2019-08-14T06:09:54.233407Z",
     "start_time": "2019-08-14T06:09:51.222239Z"
    }
   },
   "outputs": [
    {
     "name": "stdout",
     "output_type": "stream",
     "text": [
      "1565762991.224372\n",
      "3.0045230388641357\n",
      "2019-08-14 14:09:54 PM\n",
      "2019-08-14 14:09:54 PM\n",
      "time.struct_time(tm_year=2019, tm_mon=8, tm_mday=14, tm_hour=14, tm_min=9, tm_sec=54, tm_wday=2, tm_yday=226, tm_isdst=0)\n",
      "2019\n",
      "14\n",
      "time.struct_time(tm_year=2019, tm_mon=8, tm_mday=14, tm_hour=6, tm_min=9, tm_sec=54, tm_wday=2, tm_yday=226, tm_isdst=0)\n"
     ]
    }
   ],
   "source": [
    "# 时间分为三种形式\n",
    "# 1.时间戳\n",
    "print(time.time())\n",
    "start_time = time.time()\n",
    "time.sleep(3)\n",
    "stop_time = time.time()\n",
    "print(stop_time - start_time)\n",
    "\n",
    "# 2、格式化的字符串\n",
    "print(time.strftime('%Y-%m-%d %H:%M:%S %p'))\n",
    "print(time.strftime('%Y-%m-%d %X %p'))\n",
    "\n",
    "# 3、struct_time对象\n",
    "print(time.localtime())  # 上海：东八区\n",
    "print(time.localtime().tm_year)\n",
    "print(time.localtime().tm_mday)\n",
    "\n",
    "print(time.gmtime())  # UTC时区"
   ]
  },
  {
   "cell_type": "code",
   "execution_count": 6,
   "metadata": {
    "ExecuteTime": {
     "end_time": "2019-08-14T06:29:43.472500Z",
     "start_time": "2019-08-14T06:29:43.468899Z"
    }
   },
   "outputs": [
    {
     "name": "stdout",
     "output_type": "stream",
     "text": [
      "[#                                                 ]\n",
      "[##                                                ]\n",
      "[###                                               ]\n"
     ]
    }
   ],
   "source": [
    "print('[%-50s]'%'#')\n",
    "print('[%-50s]'%'##')\n",
    "print('[%-50s]'%'###')"
   ]
  },
  {
   "cell_type": "code",
   "execution_count": 7,
   "metadata": {
    "ExecuteTime": {
     "end_time": "2019-08-14T06:33:03.606060Z",
     "start_time": "2019-08-14T06:33:03.602647Z"
    }
   },
   "outputs": [
    {
     "name": "stdout",
     "output_type": "stream",
     "text": [
      "30%\n",
      "[#                             ]\n",
      "[##                            ]\n",
      "[###                           ]\n"
     ]
    }
   ],
   "source": [
    "num = 30\n",
    "print('%s%%'%num)\n",
    "width = 30\n",
    "print(('[%%-%ds]'%width)%'#')\n",
    "print(('[%%-%ds]'%width)%'##')\n",
    "print(('[%%-%ds]'%width)%'###')"
   ]
  },
  {
   "cell_type": "code",
   "execution_count": 11,
   "metadata": {
    "ExecuteTime": {
     "end_time": "2019-08-14T06:41:28.255775Z",
     "start_time": "2019-08-14T06:41:17.717196Z"
    }
   },
   "outputs": [
    {
     "name": "stdout",
     "output_type": "stream",
     "text": [
      "[##################################################] 100%"
     ]
    }
   ],
   "source": [
    "def progress(percent, width=50):\n",
    "    if percent > 1:\n",
    "        percent = 1\n",
    "    show_str = ('[%%-%ds]'%width) % (int(width * percent) * '#')\n",
    "    print('\\r%s %d%%' % (show_str, int(100 * percent)), end='')\n",
    "\n",
    "import time\n",
    "recv_size=0\n",
    "total_size = 809700\n",
    "while recv_size < total_size:\n",
    "    time.sleep(0.1)\n",
    "    recv_size += 8096\n",
    "    percent = recv_size / total_size\n",
    "    progress(percent)"
   ]
  },
  {
   "cell_type": "code",
   "execution_count": 39,
   "metadata": {
    "ExecuteTime": {
     "end_time": "2019-08-14T07:25:06.154790Z",
     "start_time": "2019-08-14T07:25:06.149430Z"
    }
   },
   "outputs": [
    {
     "name": "stdout",
     "output_type": "stream",
     "text": [
      "[{'name': 'albert', 'sex': 'male', 'age': 18, 'salary': 3000}, {'name': 'james', 'sex': 'male', 'age': 38, 'salary': 30000}, {'name': '林志玲', 'sex': 'female', 'age': 28, 'salary': 20000}, {'name': '新垣结衣', 'sex': 'female', 'age': 28, 'salary': 10000}]\n"
     ]
    }
   ],
   "source": [
    "\"\"\"\n",
    "1 文件内容如下，标题为:姓名,性别,年纪,薪资\n",
    "albert male 18 3000\n",
    "james male 38 30000\n",
    "林志玲 female 28 20000\n",
    "新垣结衣 female 28 10000\n",
    "要求从文件中取出每一条记录放入列表中，列表的每个元素都是如下格式:\n",
    "{'name':'albert','sex':'male','age':18,'salary':3000}\n",
    "\"\"\"\n",
    "\n",
    "l = []\n",
    "with open('info.txt', 'r') as f:\n",
    "    for line in f:\n",
    "        d = {}\n",
    "        d['name'] = line.split(' ')[0]\n",
    "        d['sex'] = line.split(' ')[1]\n",
    "        d['age'] = eval(line.split(' ')[2])\n",
    "        d['salary'] = eval(line.split(' ')[-1].strip('\\n'))\n",
    "        l.append(d)\n",
    "print(l)"
   ]
  },
  {
   "cell_type": "code",
   "execution_count": 44,
   "metadata": {
    "ExecuteTime": {
     "end_time": "2019-08-14T07:27:56.020626Z",
     "start_time": "2019-08-14T07:27:56.015814Z"
    }
   },
   "outputs": [
    {
     "name": "stdout",
     "output_type": "stream",
     "text": [
      "{'name': 'james', 'sex': 'male', 'age': 38, 'salary': 30000}\n",
      "{'name': 'albert', 'sex': 'male', 'age': 18, 'salary': 3000}\n",
      "[{'name': 'Albert', 'sex': 'male', 'age': 18, 'salary': 3000}, {'name': 'James', 'sex': 'male', 'age': 38, 'salary': 30000}, {'name': '林志玲', 'sex': 'female', 'age': 28, 'salary': 20000}, {'name': '新垣结衣', 'sex': 'female', 'age': 28, 'salary': 10000}]\n",
      "[{'name': 'james', 'sex': 'male', 'age': 38, 'salary': 30000}, {'name': '林志玲', 'sex': 'female', 'age': 28, 'salary': 20000}, {'name': '新垣结衣', 'sex': 'female', 'age': 28, 'salary': 10000}]\n"
     ]
    }
   ],
   "source": [
    "# 2 根据题目1得到的列表，取出薪资最高的人的信息\n",
    "print(max(l, key=lambda x:x['salary']))\n",
    "\n",
    "# 3 根据题目1得到的列表，取出最年轻的人的信息\n",
    "print(min(l, key=lambda x:x['age']))\n",
    "\n",
    "# 4 根据题目1得到的列表，将每个人的信息中的名字映射成首字母大写的形式\n",
    "import copy\n",
    "names = [i['name'].title() for i in l]\n",
    "l2 = copy.deepcopy(l)\n",
    "for item,name in zip(l2,names):\n",
    "    item['name'] = name\n",
    "print(new_l)\n",
    "\n",
    "# 5 根据题目1得到的列表，过滤掉名字以'a'开头的人的信息\n",
    "print(list(filter(lambda x:not x['name'].startswith('a'), l)))"
   ]
  },
  {
   "cell_type": "code",
   "execution_count": 57,
   "metadata": {
    "ExecuteTime": {
     "end_time": "2019-08-14T07:50:23.706710Z",
     "start_time": "2019-08-14T07:50:22.194547Z"
    }
   },
   "outputs": [
    {
     "name": "stdout",
     "output_type": "stream",
     "text": [
      "输入正数>>:20\n",
      "1\n",
      "1\n",
      "2\n",
      "3\n",
      "5\n",
      "8\n",
      "13\n",
      "21\n",
      "34\n",
      "55\n",
      "89\n",
      "144\n",
      "233\n",
      "377\n",
      "610\n",
      "987\n",
      "1597\n",
      "2584\n",
      "4181\n",
      "6765\n"
     ]
    }
   ],
   "source": [
    "# 6 使用递归打印斐波那契数列(前两个数的和等于第三个数，如：1 1 2 3 5 8...)\n",
    "def Fib(n):\n",
    "    if n == 1 or n==2:\n",
    "        return 1\n",
    "    else:\n",
    "        return Fib(n-1) + Fib(n-2)\n",
    "try:\n",
    "    num = eval(input(\"输入正数>>:\").strip())\n",
    "    assert num > 0 and type(num) == int\n",
    "    for i in range(1, num+1):\n",
    "        print(Fib(i))\n",
    "except:\n",
    "    print(\"请输入正数\")"
   ]
  },
  {
   "cell_type": "code",
   "execution_count": 121,
   "metadata": {
    "ExecuteTime": {
     "end_time": "2019-08-14T08:31:11.109657Z",
     "start_time": "2019-08-14T08:31:11.105662Z"
    }
   },
   "outputs": [
    {
     "name": "stdout",
     "output_type": "stream",
     "text": [
      "NIS6ScJR\n"
     ]
    }
   ],
   "source": [
    "# 7 使用random模块写一个随机生成8位验证码的程序，验证码中有随机大小写字母和数字\n",
    "import random\n",
    "import re\n",
    "\n",
    "all_char = '0123456789qazwsxedcrfvtgbyhnujmikolpQAZWSXEDCRFVTGBYHNUJIKOLP'\n",
    "verify_code = ''\n",
    "\n",
    "while not (re.search('[a-z]',verify_code) and re.search('[A-Z]', verify_code) and re.search('\\d',verify_code)):\n",
    "    verify_code = ''\n",
    "    for i in range(8):\n",
    "        verify_code += random.choice(all_char)\n",
    "print(verify_code)"
   ]
  },
  {
   "cell_type": "code",
   "execution_count": 138,
   "metadata": {
    "ExecuteTime": {
     "end_time": "2019-08-14T08:51:23.280072Z",
     "start_time": "2019-08-14T08:51:23.276324Z"
    }
   },
   "outputs": [
    {
     "name": "stdout",
     "output_type": "stream",
     "text": [
      "找到正确密码: 123456\n"
     ]
    }
   ],
   "source": [
    "# 8 写一个模拟撞库的程序，假如密码都是用md5加密的，没有加盐，撞库就是用多个猜测的密码去尝试比对正确的密码，比对过程一定是用md5来进行。\n",
    "import hashlib\n",
    "\n",
    "m = hashlib.md5()\n",
    "true_pwd = '123456'\n",
    "m.update(true_pwd.encode('utf-8'))\n",
    "true_md5 = m.hexdigest()\n",
    "\n",
    "guess_pwd = ['abc123456','123','123456','666','888','abcdefgh','666888']\n",
    "\n",
    "for pwd in guess_pwd:\n",
    "    m = hashlib.md5()\n",
    "    m.update(pwd.encode('utf-8'))\n",
    "    if m.hexdigest() == true_md5:\n",
    "        print(\"找到正确密码:\", pwd)\n"
   ]
  },
  {
   "cell_type": "code",
   "execution_count": 154,
   "metadata": {
    "ExecuteTime": {
     "end_time": "2019-08-14T09:20:42.457885Z",
     "start_time": "2019-08-14T09:20:42.451795Z"
    }
   },
   "outputs": [
    {
     "name": "stdout",
     "output_type": "stream",
     "text": [
      "有效信息:\n",
      "\n",
      "王心颜   上海     169      46    13813234424\n",
      "\n",
      "乔亦菲   广州     172      52    15823423525\n",
      "\n",
      "岳妮妮   深圳     177      54    18835324553\n",
      "\n",
      "杜姗姗   北京     167      49    13324523342\n"
     ]
    }
   ],
   "source": [
    "\"\"\"\n",
    "使用re模块写一个验证手机号码是否有效的程序\n",
    "首先准备了一个通讯录文件，嫩模联系方式.txt，以下是文件内容：\n",
    "姓名     地区     身高     体重     电话\n",
    "况咏蜜   北京     171      48    11151054608\n",
    "王心颜   上海     169      46    13813234424\n",
    "马纤羽   深圳     173      50    137234523\n",
    "乔亦菲   广州     172      52    15823423525\n",
    "罗梦竹   北京     175      49    38623423421\n",
    "刘诺涵   北京     170      48    22623423765\n",
    "岳妮妮   深圳     177      54    18835324553\n",
    "贺婉萱   深圳     174      52    10933434452\n",
    "叶梓萱   上海     171      49    16742432324\n",
    "杜姗姗   北京     167      49    13324523342\n",
    "我们按照中国大陆的手机号码标准来比对验证，输出有效的号码。\n",
    "\"\"\"\n",
    "import re\n",
    "\n",
    "with open('nenmo.txt', 'r') as f:\n",
    "    pattern = '1(?:3\\d{3}|5[^4\\D]\\d{2}|8\\d{3}|7(?:[35678]\\d{2}|4(?:0\\d|1[0-2]|9\\d))|9[189]\\d{2}|66\\d{2})\\d{6}$'\n",
    "    print(\"有效信息:\")\n",
    "    print()\n",
    "    for line in f:\n",
    "        if re.search(pattern, line):\n",
    "            print(line)\n",
    "    "
   ]
  },
  {
   "cell_type": "code",
   "execution_count": null,
   "metadata": {},
   "outputs": [],
   "source": []
  }
 ],
 "metadata": {
  "hide_input": false,
  "kernelspec": {
   "display_name": "Python 3",
   "language": "python",
   "name": "python3"
  },
  "language_info": {
   "codemirror_mode": {
    "name": "ipython",
    "version": 3
   },
   "file_extension": ".py",
   "mimetype": "text/x-python",
   "name": "python",
   "nbconvert_exporter": "python",
   "pygments_lexer": "ipython3",
   "version": "3.6.5"
  },
  "toc": {
   "base_numbering": 1,
   "nav_menu": {},
   "number_sections": true,
   "sideBar": true,
   "skip_h1_title": false,
   "title_cell": "Table of Contents",
   "title_sidebar": "Contents",
   "toc_cell": false,
   "toc_position": {},
   "toc_section_display": true,
   "toc_window_display": false
  },
  "varInspector": {
   "cols": {
    "lenName": 16,
    "lenType": 16,
    "lenVar": 40
   },
   "kernels_config": {
    "python": {
     "delete_cmd_postfix": "",
     "delete_cmd_prefix": "del ",
     "library": "var_list.py",
     "varRefreshCmd": "print(var_dic_list())"
    },
    "r": {
     "delete_cmd_postfix": ") ",
     "delete_cmd_prefix": "rm(",
     "library": "var_list.r",
     "varRefreshCmd": "cat(var_dic_list()) "
    }
   },
   "types_to_exclude": [
    "module",
    "function",
    "builtin_function_or_method",
    "instance",
    "_Feature"
   ],
   "window_display": false
  }
 },
 "nbformat": 4,
 "nbformat_minor": 2
}
