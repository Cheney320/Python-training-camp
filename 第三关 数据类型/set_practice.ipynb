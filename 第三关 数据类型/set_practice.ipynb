{
 "cells": [
  {
   "cell_type": "markdown",
   "metadata": {},
   "source": [
    "## 集合练习"
   ]
  },
  {
   "cell_type": "markdown",
   "metadata": {},
   "source": [
    "https://zhuanlan.zhihu.com/p/49326997"
   ]
  },
  {
   "cell_type": "markdown",
   "metadata": {},
   "source": [
    "### 关系运算\n",
    "有如下两个集合，pythons是报名python课程的学员名字集合，ais是报名人工智能课程的学员名字集合<br>\n",
    "　　pythons={'albert','孙悟空','周星驰','朱茵','林志玲'}<br>\n",
    "　　ais={'猪八戒','郭德纲','林忆莲'，'周星驰'}<br>\n",
    "　　1. 求出即报名python又报名ai课程的学员名字集合<br>\n",
    "　　2. 求出所有报名的学生名字集合<br>\n",
    "　　3. 求出只报名python课程的学员名字<br>\n",
    "　　4. 求出没有同时这两门课程的学员名字集合<br>"
   ]
  },
  {
   "cell_type": "code",
   "execution_count": 3,
   "metadata": {},
   "outputs": [
    {
     "name": "stdout",
     "output_type": "stream",
     "text": [
      "{'周星驰'}\n",
      "{'周星驰', '郭德纲', '林志玲', 'albert', '朱茵', '孙悟空', '猪八戒', '林忆莲'}\n",
      "{'朱茵', '孙悟空', '林志玲', 'albert'}\n",
      "{'郭德纲', 'albert', '林忆莲', '林志玲', '朱茵', '孙悟空', '猪八戒'}\n"
     ]
    }
   ],
   "source": [
    "pythons={'albert','孙悟空','周星驰','朱茵','林志玲'}\n",
    "ais={'猪八戒','郭德纲','林忆莲','周星驰'}\n",
    "\n",
    "# 求出即报名python又报名ai课程的学员名字集合\n",
    "print(pythons & ais)\n",
    "# 求出所有报名的学生名字集合\n",
    "print(pythons | ais)\n",
    "# 求出只报名python课程的学员名字\n",
    "print(pythons - ais)\n",
    "# 求出没有同时报这两门课程的学员名字集合\n",
    "print(pythons ^ ais)"
   ]
  },
  {
   "cell_type": "markdown",
   "metadata": {},
   "source": [
    "### 去重\n",
    "1. 有列表l=['a','b',1,'a','a']，列表元素均为不可变类型，去重，得到新列表,且新列表无需保持列表原来的顺序<br>\n",
    "\n",
    "2. 在上题的基础上，保存列表原来的顺序<br>\n",
    "\n",
    "3. 去除文件中重复的行，肯定要保持文件内容的顺序不变(后面的章节会讲文件操作)<br>\n",
    "\n",
    "4. 有如下列表，列表元素为可变类型，去重，得到新列表，且新列表一定要保持列表原来的顺序<br>\n",
    "\n",
    "\n",
    "l=[\n",
    "    {'name':'albert','age':18,'sex':'male'},\n",
    "    {'name':'alex','age':73,'sex':'male'},\n",
    "    {'name':'albert','age':20,'sex':'female'},\n",
    "    {'name':'albert','age':18,'sex':'male'},\n",
    "    {'name':'albert','age':18,'sex':'male'},\n",
    "]"
   ]
  },
  {
   "cell_type": "code",
   "execution_count": 5,
   "metadata": {},
   "outputs": [
    {
     "name": "stdout",
     "output_type": "stream",
     "text": [
      "{1, 'b', 'a'}\n"
     ]
    }
   ],
   "source": [
    "#去重,无需保持原来的顺序\n",
    "l=['a','b',1,'a','a']\n",
    "print(set(l))"
   ]
  },
  {
   "cell_type": "code",
   "execution_count": 7,
   "metadata": {},
   "outputs": [
    {
     "name": "stdout",
     "output_type": "stream",
     "text": [
      "['a', 'b', 1]\n",
      "['a', 'b', 1]\n"
     ]
    }
   ],
   "source": [
    "#去重,并保持原来的顺序\n",
    "#方法一:不用集合\n",
    "l=['a','b',1,'a','a']\n",
    "\n",
    "l1=[]\n",
    "for i in l:\n",
    "    if i not in l1:\n",
    "        l1.append(i)\n",
    "print(l1)\n",
    "\n",
    "#方法二:借助集合\n",
    "l1=[]\n",
    "s=set()\n",
    "for i in l:\n",
    "    if i not in s:\n",
    "        s.add(i)\n",
    "        l1.append(i)\n",
    "\n",
    "print(l1)"
   ]
  },
  {
   "cell_type": "code",
   "execution_count": 12,
   "metadata": {},
   "outputs": [],
   "source": [
    "#同上方法二,去除文件中重复的行\n",
    "import os\n",
    "with open('db.txt','r',encoding='utf-8') as read_f,\\\n",
    "        open('.db.txt.swap','w',encoding='utf-8') as write_f:\n",
    "    s=set()\n",
    "    for line in read_f:\n",
    "        if line not in s:\n",
    "            s.add(line)\n",
    "            write_f.write(line)\n",
    "os.remove('db.txt')\n",
    "os.rename('.db.txt.swap','db.txt')"
   ]
  },
  {
   "cell_type": "code",
   "execution_count": 14,
   "metadata": {},
   "outputs": [
    {
     "name": "stdout",
     "output_type": "stream",
     "text": [
      "[{'name': 'albert', 'age': 18, 'sex': 'male'}, {'name': 'alex', 'age': 73, 'sex': 'male'}, {'name': 'alex', 'age': 20, 'sex': 'female'}]\n"
     ]
    }
   ],
   "source": [
    "#列表中元素为可变类型时,去重,并且保持原来顺序\n",
    "l=[\n",
    "    {'name':'albert','age':18,'sex':'male'},\n",
    "    {'name':'alex','age':73,'sex':'male'},\n",
    "    {'name':'alex','age':20,'sex':'female'},\n",
    "    {'name':'albert','age':18,'sex':'male'},\n",
    "    {'name':'albert','age':18,'sex':'male'},\n",
    "]\n",
    "# print(set(l)) #报错:unhashable type: 'dict'\n",
    "\n",
    "s=set()\n",
    "l1=[]\n",
    "for item in l:\n",
    "    val=(item['name'],item['age'],item['sex'])\n",
    "    if val not in s:\n",
    "        s.add(val)\n",
    "        l1.append(item)\n",
    "\n",
    "print(l1)"
   ]
  },
  {
   "cell_type": "code",
   "execution_count": 15,
   "metadata": {},
   "outputs": [
    {
     "name": "stdout",
     "output_type": "stream",
     "text": [
      "[{'name': 'albert', 'age': 18, 'sex': 'male'}, {'name': 'alex', 'age': 73, 'sex': 'male'}, {'name': 'alex', 'age': 20, 'sex': 'female'}]\n"
     ]
    }
   ],
   "source": [
    "# 定义函数,既可以针对可以hash类型又可以针对不可hash类型\n",
    "def func(items,key=None):\n",
    "    s=set()\n",
    "    for item in items:\n",
    "        val=item if key is None else key(item)\n",
    "        if val not in s:\n",
    "            s.add(val)\n",
    "            yield item\n",
    "\n",
    "print(list(func(l,key=lambda dic:(dic['name'],dic['age'],dic['sex']))))"
   ]
  }
 ],
 "metadata": {
  "kernelspec": {
   "display_name": "Python 3",
   "language": "python",
   "name": "python3"
  },
  "language_info": {
   "codemirror_mode": {
    "name": "ipython",
    "version": 3
   },
   "file_extension": ".py",
   "mimetype": "text/x-python",
   "name": "python",
   "nbconvert_exporter": "python",
   "pygments_lexer": "ipython3",
   "version": "3.6.5"
  }
 },
 "nbformat": 4,
 "nbformat_minor": 2
}
