{
 "cells": [
  {
   "cell_type": "markdown",
   "metadata": {},
   "source": [
    "## 字符串练习"
   ]
  },
  {
   "cell_type": "markdown",
   "metadata": {},
   "source": [
    "https://www.cnblogs.com/mayite/articles/9125867.html"
   ]
  },
  {
   "cell_type": "code",
   "execution_count": 28,
   "metadata": {},
   "outputs": [],
   "source": [
    "# 写代码,有如下变量,请按照要求实现每个功能 （共6分，每小题各0.5分）\n",
    "name = \" alberT\"\n",
    "# 1)    移除 name 变量对应的值两边的空格,并输出处理结果\n",
    "# 2)    判断 name 变量对应的值是否以 \"al\" 开头,并输出结果\n",
    "# 3)    判断 name 变量对应的值是否以 \"T\" 结尾,并输出结果\n",
    "# 4)    将 name 变量对应的值中的 “l” 替换为 “p”,并输出结果\n",
    "# 5)    将 name 变量对应的值根据 “l” 分割,并输出结果。\n",
    "# 6)    将 name 变量对应的值变大写,并输出结果\n",
    "# 7)    将 name 变量对应的值变小写,并输出结果\n",
    "# 8)    请输出 name 变量对应的值的第 2 个字符?\n",
    "# 9)    请输出 name 变量对应的值的前 3 个字符?\n",
    "# 10)    请输出 name 变量对应的值的后 2 个字符?\n",
    "# 11)    请输出 name 变量对应的值中 “e” 所在索引位置?\n",
    "# 12)    获取子序列,去掉最后一个字符。如: albert 则获取 alber"
   ]
  },
  {
   "cell_type": "code",
   "execution_count": 30,
   "metadata": {},
   "outputs": [
    {
     "name": "stdout",
     "output_type": "stream",
     "text": [
      " alberT\n",
      "alberT\n"
     ]
    }
   ],
   "source": [
    "# 1)    移除 name 变量对应的值两边的空格,并输出处理结果\n",
    "print(name)\n",
    "print(name.strip())"
   ]
  },
  {
   "cell_type": "code",
   "execution_count": 33,
   "metadata": {},
   "outputs": [
    {
     "name": "stdout",
     "output_type": "stream",
     "text": [
      "False\n"
     ]
    }
   ],
   "source": [
    "# 2)    判断 name 变量对应的值是否以 \"al\" 开头,并输出结果\n",
    "print(name.startswith('al'))"
   ]
  },
  {
   "cell_type": "code",
   "execution_count": 34,
   "metadata": {},
   "outputs": [
    {
     "name": "stdout",
     "output_type": "stream",
     "text": [
      "True\n"
     ]
    }
   ],
   "source": [
    "# 3)    判断 name 变量对应的值是否以 \"T\" 结尾,并输出结果\n",
    "print(name.endswith('T'))"
   ]
  },
  {
   "cell_type": "code",
   "execution_count": 35,
   "metadata": {},
   "outputs": [
    {
     "name": "stdout",
     "output_type": "stream",
     "text": [
      " apberT\n"
     ]
    }
   ],
   "source": [
    "# 4)    将 name 变量对应的值中的 “l” 替换为 “p”,并输出结果\n",
    "print(name.replace('l','p'))"
   ]
  },
  {
   "cell_type": "code",
   "execution_count": 36,
   "metadata": {},
   "outputs": [
    {
     "name": "stdout",
     "output_type": "stream",
     "text": [
      "[' a', 'berT']\n"
     ]
    }
   ],
   "source": [
    "# 5)    将 name 变量对应的值根据 “l” 分割,并输出结果。\n",
    "print(name.split('l'))"
   ]
  },
  {
   "cell_type": "code",
   "execution_count": 40,
   "metadata": {},
   "outputs": [
    {
     "name": "stdout",
     "output_type": "stream",
     "text": [
      " ALBERT\n"
     ]
    }
   ],
   "source": [
    "# 6)    将 name 变量对应的值变大写,并输出结果\n",
    "print(name.upper())"
   ]
  },
  {
   "cell_type": "code",
   "execution_count": 41,
   "metadata": {},
   "outputs": [
    {
     "name": "stdout",
     "output_type": "stream",
     "text": [
      " albert\n"
     ]
    }
   ],
   "source": [
    "# 7)    将 name 变量对应的值变小写,并输出结果\n",
    "print(name.lower())"
   ]
  },
  {
   "cell_type": "code",
   "execution_count": 42,
   "metadata": {},
   "outputs": [
    {
     "name": "stdout",
     "output_type": "stream",
     "text": [
      "a\n"
     ]
    }
   ],
   "source": [
    "# 8)    请输出 name 变量对应的值的第 2 个字符?\n",
    "print(name[1])"
   ]
  },
  {
   "cell_type": "code",
   "execution_count": 43,
   "metadata": {},
   "outputs": [
    {
     "name": "stdout",
     "output_type": "stream",
     "text": [
      " al\n"
     ]
    }
   ],
   "source": [
    "# 9)    请输出 name 变量对应的值的前 3 个字符?\n",
    "print(name[:3])"
   ]
  },
  {
   "cell_type": "code",
   "execution_count": 44,
   "metadata": {},
   "outputs": [
    {
     "name": "stdout",
     "output_type": "stream",
     "text": [
      "rT\n"
     ]
    }
   ],
   "source": [
    "# 10)    请输出 name 变量对应的值的后 2 个字符?\n",
    "print(name[-2:])"
   ]
  },
  {
   "cell_type": "code",
   "execution_count": 45,
   "metadata": {},
   "outputs": [
    {
     "name": "stdout",
     "output_type": "stream",
     "text": [
      "4\n"
     ]
    }
   ],
   "source": [
    "# 11)    请输出 name 变量对应的值中 “e” 所在索引位置?\n",
    "print(name.index('e'))"
   ]
  },
  {
   "cell_type": "code",
   "execution_count": 46,
   "metadata": {},
   "outputs": [
    {
     "name": "stdout",
     "output_type": "stream",
     "text": [
      " alber\n"
     ]
    }
   ],
   "source": [
    "# 12)    获取子序列,去掉最后一个字符。如: albert 则获取 alber\n",
    "print(name[:-1])"
   ]
  }
 ],
 "metadata": {
  "kernelspec": {
   "display_name": "Python 3",
   "language": "python",
   "name": "python3"
  },
  "language_info": {
   "codemirror_mode": {
    "name": "ipython",
    "version": 3
   },
   "file_extension": ".py",
   "mimetype": "text/x-python",
   "name": "python",
   "nbconvert_exporter": "python",
   "pygments_lexer": "ipython3",
   "version": "3.6.5"
  }
 },
 "nbformat": 4,
 "nbformat_minor": 1
}
