{
 "cells": [
  {
   "cell_type": "markdown",
   "metadata": {},
   "source": [
    "### 练习一"
   ]
  },
  {
   "cell_type": "code",
   "execution_count": 5,
   "metadata": {
    "ExecuteTime": {
     "end_time": "2019-07-29T02:23:52.991244Z",
     "start_time": "2019-07-29T02:23:52.988317Z"
    }
   },
   "outputs": [],
   "source": [
    "name = \" alberT\"\n",
    "\n",
    "# 1 移除name变量对应的值两边的空格，并输出处理结果\n",
    "name.strip()\n",
    "\n",
    "# 2 判断name变量对应的值是否以\"al\"开头\n",
    "name.startswith('al')\n",
    "\n",
    "# 3 判断name变量对应的值是否以“T”结尾\n",
    "name.endswith('T')\n",
    "\n",
    "# 4 将name变量对应的值中的“l”替换为“p”\n",
    "name.replace('l','p')\n",
    "\n",
    "# 5 将name变量对应的值根据“l”分割\n",
    "name.split('l')\n",
    "\n",
    "# 6 将name变量对应的值边大写\n",
    "name.upper()\n",
    "\n",
    "# 7 将name变量对应的值变小写\n",
    "name.lower()\n",
    "\n",
    "# 8 输出name变量对应值的第2个字符\n",
    "name[1]\n",
    "\n",
    "# 9 输出name变量对应值的前3个字符\n",
    "name[:3]\n",
    "\n",
    "# 10 输出name变量对应值的后两个字符\n",
    "name[-2:]\n",
    "\n",
    "# 11 输出name变量对应值中“e”所在索引位置\n",
    "name.index('e')\n",
    "\n",
    "# 12 获取子序列，去掉最后一个字符。如：albert则获取 alber\n",
    "name[:-1]"
   ]
  },
  {
   "cell_type": "markdown",
   "metadata": {
    "ExecuteTime": {
     "end_time": "2019-07-29T02:39:48.883008Z",
     "start_time": "2019-07-29T02:39:48.880643Z"
    }
   },
   "source": [
    "### 练习二"
   ]
  },
  {
   "cell_type": "code",
   "execution_count": 19,
   "metadata": {
    "ExecuteTime": {
     "end_time": "2019-07-29T02:47:30.125986Z",
     "start_time": "2019-07-29T02:47:30.121957Z"
    }
   },
   "outputs": [
    {
     "name": "stdout",
     "output_type": "stream",
     "text": [
      "albert 18 2000 1 1\n"
     ]
    }
   ],
   "source": [
    "\"\"\"\n",
    "有列表data=['albert',18,[2000,1,1]]，分别取出列表中的名字，年龄，出生的年，月，日赋值给不同的变量\n",
    "\"\"\"\n",
    "\n",
    "data = ['albert',18,[2000,1,1]]\n",
    "name = data[0]\n",
    "age = data[1]\n",
    "year = data[2][0]\n",
    "month = data[2][1]\n",
    "day = data[2][2]\n",
    "print(name,age,year,month,day)"
   ]
  },
  {
   "cell_type": "markdown",
   "metadata": {},
   "source": [
    "### 练习三"
   ]
  },
  {
   "cell_type": "code",
   "execution_count": 20,
   "metadata": {
    "ExecuteTime": {
     "end_time": "2019-07-29T02:55:28.545740Z",
     "start_time": "2019-07-29T02:55:28.541807Z"
    }
   },
   "outputs": [
    {
     "name": "stdout",
     "output_type": "stream",
     "text": [
      "{'k1': [77, 88, 99, 90], 'k2': [11, 22, 33, 44, 55]}\n"
     ]
    }
   ],
   "source": [
    "\"\"\"\n",
    "有如下值集合[11,22,33,44,55,66,77,88,99,90]，将所有大于66的值保存至字典的第一个key中，\n",
    "将小于66的值保存在第二个key的值中，即：{'k1':大于66的所有值，'k2':小于66的所有值}\n",
    "\"\"\"\n",
    "\n",
    "l = [11,22,33,44,55,66,77,88,99,90]\n",
    "d = {'k1':[], 'k2':[]}\n",
    "for i in l:\n",
    "    if i > 66:\n",
    "        d['k1'].append(i)\n",
    "    if i < 66:\n",
    "        d['k2'].append(i)\n",
    "print(d)"
   ]
  },
  {
   "cell_type": "markdown",
   "metadata": {},
   "source": [
    "### 练习四"
   ]
  },
  {
   "cell_type": "code",
   "execution_count": 21,
   "metadata": {
    "ExecuteTime": {
     "end_time": "2019-07-29T02:59:55.220491Z",
     "start_time": "2019-07-29T02:59:55.216947Z"
    }
   },
   "outputs": [
    {
     "name": "stdout",
     "output_type": "stream",
     "text": [
      "[1, 'b', 'a']\n"
     ]
    }
   ],
   "source": [
    "# 1.列表l=['a','b',1,'a','a']，列表元素均为不可变类型，去重得到新列表，且新列表无需保持列表原来的顺序\n",
    "l = ['a','b',1,'a','a']\n",
    "new_l = list(set(l))\n",
    "print(new_l)"
   ]
  },
  {
   "cell_type": "code",
   "execution_count": 22,
   "metadata": {
    "ExecuteTime": {
     "end_time": "2019-07-29T03:04:35.145711Z",
     "start_time": "2019-07-29T03:04:35.142169Z"
    }
   },
   "outputs": [
    {
     "name": "stdout",
     "output_type": "stream",
     "text": [
      "['a', 'b', 1]\n"
     ]
    }
   ],
   "source": [
    "# 2.在上题的基础上，保存列表原来的顺序\n",
    "l = ['a','b',1,'a','a']\n",
    "new_l = []\n",
    "for i in l:\n",
    "    if i not in new_l:\n",
    "        new_l.append(i)\n",
    "print(new_l)"
   ]
  },
  {
   "cell_type": "code",
   "execution_count": 23,
   "metadata": {
    "ExecuteTime": {
     "end_time": "2019-07-29T03:12:59.907477Z",
     "start_time": "2019-07-29T03:12:59.902621Z"
    }
   },
   "outputs": [
    {
     "name": "stdout",
     "output_type": "stream",
     "text": [
      "[{'name': 'albert', 'age': 18, 'sex': 'male'}, {'name': 'james', 'age': 35, 'sex': 'male'}, {'name': 'taylor', 'age': 25, 'sex': 'female'}]\n"
     ]
    }
   ],
   "source": [
    "# 3.有如下列表，列表元素为可变类型，去重，得到新列表，且新列表一定要保持列表原来的顺序\n",
    "l = [\n",
    "        {'name':'albert', 'age':18, 'sex':'male'},\n",
    "        {'name':'james', 'age':35, 'sex':'male'},\n",
    "        {'name':'taylor', 'age':25, 'sex':'female'},\n",
    "        {'name':'albert', 'age':18, 'sex':'male'},\n",
    "        {'name':'albert', 'age':18, 'sex':'male'}\n",
    "]\n",
    "new_l = []\n",
    "for i in l:\n",
    "    if i not in new_l:\n",
    "        new_l.append(i)\n",
    "print(new_l)"
   ]
  },
  {
   "cell_type": "markdown",
   "metadata": {},
   "source": [
    "### 练习五"
   ]
  },
  {
   "cell_type": "code",
   "execution_count": 26,
   "metadata": {
    "ExecuteTime": {
     "end_time": "2019-07-29T03:23:19.151010Z",
     "start_time": "2019-07-29T03:23:19.147471Z"
    }
   },
   "outputs": [
    {
     "name": "stdout",
     "output_type": "stream",
     "text": [
      "{'hello': 2, 'world': 2, 'albert': 2, 'say': 1}\n"
     ]
    }
   ],
   "source": [
    "# 使用至少两种方法统计字符串s='hello albert albert say hello world world'中每个单词的个数\n",
    "# 方法一：\n",
    "s='hello albert albert say hello world world'\n",
    "words = s.split(' ')\n",
    "unique_words = list(set(words))\n",
    "d = {}\n",
    "for w in unique_words:\n",
    "    d[w] = words.count(w)\n",
    "print(d)"
   ]
  },
  {
   "cell_type": "code",
   "execution_count": 27,
   "metadata": {
    "ExecuteTime": {
     "end_time": "2019-07-29T03:26:17.008025Z",
     "start_time": "2019-07-29T03:26:17.004270Z"
    }
   },
   "outputs": [
    {
     "name": "stdout",
     "output_type": "stream",
     "text": [
      "{'hello': 2, 'albert': 2, 'say': 1, 'world': 2}\n"
     ]
    }
   ],
   "source": [
    "# 方法二：\n",
    "s='hello albert albert say hello world world'\n",
    "words = s.split(' ')\n",
    "counts = {}\n",
    "for w in words:\n",
    "    counts[w] = counts.get(w, 0) + 1\n",
    "print(counts)"
   ]
  },
  {
   "cell_type": "markdown",
   "metadata": {
    "ExecuteTime": {
     "end_time": "2019-07-29T03:27:23.302380Z",
     "start_time": "2019-07-29T03:27:23.299692Z"
    }
   },
   "source": [
    "### 练习六"
   ]
  },
  {
   "cell_type": "code",
   "execution_count": 52,
   "metadata": {
    "ExecuteTime": {
     "end_time": "2019-07-29T07:55:48.761908Z",
     "start_time": "2019-07-29T07:55:19.662038Z"
    }
   },
   "outputs": [
    {
     "name": "stdout",
     "output_type": "stream",
     "text": [
      "====================欢迎进入购物商城!=====================\n",
      "***********************商品信息***********************\n",
      "apple                                         10元\n",
      "mac                                           10000元\n",
      "iphone                                        8000元\n",
      "lenovo                                        30000元\n",
      "chicken                                       10元\n",
      "请输入商品名>>\n",
      "请输入购买个数>>\n",
      "输入错误！请重新输入！\n",
      "***********************商品信息***********************\n",
      "apple                                         10元\n",
      "mac                                           10000元\n",
      "iphone                                        8000元\n",
      "lenovo                                        30000元\n",
      "chicken                                       10元\n",
      "请输入商品名>>apple\n",
      "请输入购买个数>>1\n",
      "余额不足!\n",
      "充钱输入y,退出请输入q>>y\n",
      "输入金额/元>>10000000\n",
      "充值成功！余额10000000元\n",
      "继续购买输入y,退出输入q>>y\n",
      "***********************商品信息***********************\n",
      "apple                                         10元\n",
      "mac                                           10000元\n",
      "iphone                                        8000元\n",
      "lenovo                                        30000元\n",
      "chicken                                       10元\n",
      "请输入商品名>>mac\n",
      "请输入购买个数>>10\n",
      "购买成功！\n",
      "已购mac, 单价10000元, 数量10, 余额9900000元\n",
      "继续购买输入y, 退出输入q>>q\n",
      "=================已退出购物商城，欢迎下次光临!==================\n"
     ]
    }
   ],
   "source": [
    "\"\"\"\n",
    "实现简易购物程序，要求如下：首先打印商品详细信息，然后请用户输入商品名和购买个数，\n",
    "则将商品名，价格，购买个数加入购物列表，如果输入为空或其他非法输入则要求用户重新输入\n",
    "\"\"\"\n",
    "\n",
    "goods_dic = {\n",
    "    'apple':10,\n",
    "    'mac':10000,\n",
    "    'iphone':8000,\n",
    "    'lenovo':30000,\n",
    "    'chicken':10\n",
    "}\n",
    "\n",
    "account = 0\n",
    "shopping_dic = {}\n",
    "    \n",
    "tag = True\n",
    "\n",
    "print(\"欢迎进入购物商城!\".center(50, '='))\n",
    "\n",
    "while tag:\n",
    "    print('商品信息'.center(50, '*'))\n",
    "    for k in goods_dic:\n",
    "        print('{}{}元'.format(k.ljust(46,' '), goods_dic[k]))\n",
    "    name = input(\"请输入商品名>>\")\n",
    "    num= input(\"请输入购买个数>>\")\n",
    "    try:\n",
    "        if goods_dic[name] * eval(num) > account:\n",
    "            print(\"余额不足!\")\n",
    "            while tag:\n",
    "                flag = input(\"充钱输入y,退出请输入q>>\")\n",
    "                if flag == 'y':\n",
    "                    break      \n",
    "                elif flag == 'q':\n",
    "                    tag = False\n",
    "                else:\n",
    "                    continue\n",
    "            while tag:\n",
    "                money = input(\"输入金额/元>>\")\n",
    "                try:\n",
    "                    account += eval(money)\n",
    "                    print(\"充值成功！余额{}元\".format(account))\n",
    "                    break\n",
    "                except:\n",
    "                    print(\"输入有误！请重新输入！\")\n",
    "            while tag:\n",
    "                flag = input(\"继续购买输入y,退出输入q>>\")\n",
    "                if flag == 'y':\n",
    "                    break\n",
    "                elif flag == 'q':\n",
    "                    tag = False\n",
    "                    break\n",
    "                else:\n",
    "                    continue\n",
    "        else:\n",
    "            # 将购买商品加入购物列表\n",
    "            shopping_dic[name] = list()\n",
    "            shopping_dic[name].extend([goods_dic[name], eval(num)])\n",
    "            account -= goods_dic[name] * eval(num)\n",
    "            print(\"购买成功！\")\n",
    "            print(\"已购{}, 单价{}元, 数量{}, 余额{}元\".format(name, shopping_dic[name][0], \n",
    "                                                          shopping_dic[name][1], account))\n",
    "            while tag:\n",
    "                flag = input(\"继续购买输入y, 退出输入q>>\")\n",
    "                if flag == 'y':\n",
    "                    break\n",
    "                elif flag == 'q':\n",
    "                    tag = False\n",
    "                else:\n",
    "                    continue    \n",
    "    except:\n",
    "        print(\"输入错误！请重新输入！\")\n",
    "         \n",
    "print(\"已退出购物商城，欢迎下次光临!\".center(50, '='))"
   ]
  },
  {
   "cell_type": "code",
   "execution_count": null,
   "metadata": {},
   "outputs": [],
   "source": []
  }
 ],
 "metadata": {
  "hide_input": false,
  "kernelspec": {
   "display_name": "Python 3",
   "language": "python",
   "name": "python3"
  },
  "language_info": {
   "codemirror_mode": {
    "name": "ipython",
    "version": 3
   },
   "file_extension": ".py",
   "mimetype": "text/x-python",
   "name": "python",
   "nbconvert_exporter": "python",
   "pygments_lexer": "ipython3",
   "version": "3.6.5"
  },
  "toc": {
   "base_numbering": 1,
   "nav_menu": {},
   "number_sections": true,
   "sideBar": true,
   "skip_h1_title": false,
   "title_cell": "Table of Contents",
   "title_sidebar": "Contents",
   "toc_cell": false,
   "toc_position": {},
   "toc_section_display": true,
   "toc_window_display": false
  },
  "varInspector": {
   "cols": {
    "lenName": 16,
    "lenType": 16,
    "lenVar": 40
   },
   "kernels_config": {
    "python": {
     "delete_cmd_postfix": "",
     "delete_cmd_prefix": "del ",
     "library": "var_list.py",
     "varRefreshCmd": "print(var_dic_list())"
    },
    "r": {
     "delete_cmd_postfix": ") ",
     "delete_cmd_prefix": "rm(",
     "library": "var_list.r",
     "varRefreshCmd": "cat(var_dic_list()) "
    }
   },
   "types_to_exclude": [
    "module",
    "function",
    "builtin_function_or_method",
    "instance",
    "_Feature"
   ],
   "window_display": false
  }
 },
 "nbformat": 4,
 "nbformat_minor": 2
}
