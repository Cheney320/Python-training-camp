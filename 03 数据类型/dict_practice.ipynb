{
 "cells": [
  {
   "cell_type": "markdown",
   "metadata": {},
   "source": [
    "## 字典练习"
   ]
  },
  {
   "cell_type": "markdown",
   "metadata": {},
   "source": [
    "### 练习一\n",
    "\n",
    "\"\"\"简单购物车,要求如下：\n",
    "实现打印商品详细信息，用户输入商品名和购买个数，则将商品名，价格，购买个数加入购物列表，如果输入为空或其他非法输入则要求用户重新输入\n",
    "\"\"\"　　"
   ]
  },
  {
   "cell_type": "code",
   "execution_count": 12,
   "metadata": {},
   "outputs": [
    {
     "name": "stdout",
     "output_type": "stream",
     "text": [
      "请输入商品名：fr\n",
      "请输入购买个数：32\n",
      "输入错误，请重新输入！\n",
      "请输入商品名：水杯\n",
      "请输入购买个数：\n",
      "输入错误，请重新输入！\n",
      "请输入商品名：水杯\n",
      "请输入购买个数：3\n",
      "[{'商品': '水杯', '数量': 3, '应支付': 60}]\n",
      "是否继续购买？Y or y 继续， N or n 退出：y\n",
      "请输入商品名：充电宝\n",
      "请输入购买个数：3\n",
      "[{'商品': '水杯', '数量': 3, '应支付': 60}, {'商品': '充电宝', '数量': 3, '应支付': 240}]\n",
      "是否继续购买？Y or y 继续， N or n 退出：y\n",
      "请输入商品名：笔记本电脑\n",
      "请输入购买个数：1\n",
      "[{'商品': '水杯', '数量': 3, '应支付': 60}, {'商品': '充电宝', '数量': 3, '应支付': 240}, {'商品': '笔记本电脑', '数量': 1, '应支付': 8800}]\n",
      "是否继续购买？Y or y 继续， N or n 退出：n\n",
      "总支付:9100元\n"
     ]
    }
   ],
   "source": [
    "# 设定已有的商品信息\n",
    "shop = {'笔记本电脑':8800, '充电宝':80, '水杯':20}\n",
    "\n",
    "buy_lists = []\n",
    "flag = 'Y'\n",
    "\n",
    "# 输入购买\n",
    "while flag == 'y' or flag == 'Y':\n",
    "    buy_dict = {}\n",
    "    while True:  \n",
    "        name = input(\"请输入商品名：\")\n",
    "        num = input(\"请输入购买个数：\")\n",
    "        if name in shop and num.isdigit():\n",
    "            break\n",
    "        print(\"输入错误，请重新输入！\")\n",
    "    price = eval(num) * shop[name]\n",
    "    buy_dict['商品'] = name\n",
    "    buy_dict['数量'] = eval(num)\n",
    "    buy_dict['应支付'] = price\n",
    "    buy_lists.append(buy_dict)\n",
    "    print(buy_lists)\n",
    "    flag = input(\"是否继续购买？Y or y 继续， N or n 退出：\")\n",
    "    if flag == 'n' or flag == 'N':\n",
    "        break\n",
    "\n",
    "# 计算总价\n",
    "s = 0\n",
    "for item in buy_lists:\n",
    "    s += item['应支付']\n",
    "print(\"总支付:{}元\".format(s))"
   ]
  },
  {
   "cell_type": "markdown",
   "metadata": {},
   "source": [
    "### 练习二\n",
    "\"\"\"\n",
    "有如下值集合 [11,22,33,44,55,66,77,88,99,90...]，将所有大于 66 的值保存至字典的第一个key中，将小于 66 的值保存至第二个key的值中\n",
    "\n",
    "即： {'k1': 大于66的所有值, 'k2': 小于66的所有值}\n",
    "\"\"\""
   ]
  },
  {
   "cell_type": "code",
   "execution_count": 14,
   "metadata": {},
   "outputs": [
    {
     "name": "stdout",
     "output_type": "stream",
     "text": [
      "{'k1': [77, 88, 99, 90], 'k2': [11, 22, 33, 44, 55]}\n"
     ]
    }
   ],
   "source": [
    "l = [11,22,33,44,55,66,77,88,99,90]\n",
    "d = {'k1':[],'k2':[]}\n",
    "for i in l:\n",
    "    if i > 66:\n",
    "        d['k1'].append(i)\n",
    "    if i < 66:\n",
    "        d['k2'].append(i)\n",
    "print(d)"
   ]
  }
 ],
 "metadata": {
  "kernelspec": {
   "display_name": "Python 3",
   "language": "python",
   "name": "python3"
  },
  "language_info": {
   "codemirror_mode": {
    "name": "ipython",
    "version": 3
   },
   "file_extension": ".py",
   "mimetype": "text/x-python",
   "name": "python",
   "nbconvert_exporter": "python",
   "pygments_lexer": "ipython3",
   "version": "3.6.5"
  }
 },
 "nbformat": 4,
 "nbformat_minor": 2
}
