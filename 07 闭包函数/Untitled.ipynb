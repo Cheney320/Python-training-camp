{
 "cells": [
  {
   "cell_type": "markdown",
   "metadata": {},
   "source": [
    "### 装饰器语法糖"
   ]
  },
  {
   "cell_type": "code",
   "execution_count": 2,
   "metadata": {
    "ExecuteTime": {
     "end_time": "2019-08-11T08:01:32.613446Z",
     "start_time": "2019-08-11T08:01:29.602999Z"
    }
   },
   "outputs": [
    {
     "name": "stdout",
     "output_type": "stream",
     "text": [
      "welcome to index page\n",
      "1.004159927368164\n",
      "welcome Albert to home page\n",
      "2.001585006713867\n"
     ]
    }
   ],
   "source": [
    "import time\n",
    "\n",
    "# 装饰器也是一个函数，使用函数必须先定义，所以装饰器放在最上方\n",
    "def timer(func):\n",
    "    def wrapper(*args, **kwargs):\n",
    "        start_time = time.time()\n",
    "        res = func(*args, **kwargs)\n",
    "        stop_time = time.time()\n",
    "        print(stop_time - start_time)\n",
    "        return res\n",
    "    \n",
    "    return wrapper\n",
    "\n",
    "@timer   # 在被装饰对象正上方单独一行添加，相当于执行index=timer(index)\n",
    "def index():\n",
    "    time.sleep(1)\n",
    "    print(\"welcome to index page\")\n",
    "    return 1\n",
    "\n",
    "@timer   # home = timer(home) 当不需要装饰器的时候只需要注释这一行即可\n",
    "def home(name):\n",
    "    time.sleep(2)\n",
    "    print(\"welcome %s to home page\" % name)\n",
    "    \n",
    "index()\n",
    "home('Albert')\n"
   ]
  },
  {
   "cell_type": "markdown",
   "metadata": {
    "ExecuteTime": {
     "end_time": "2019-08-11T08:40:19.393140Z",
     "start_time": "2019-08-11T08:40:19.390704Z"
    }
   },
   "source": [
    "#### 用户认证装饰器"
   ]
  },
  {
   "cell_type": "code",
   "execution_count": 11,
   "metadata": {
    "ExecuteTime": {
     "end_time": "2019-08-11T08:38:53.366169Z",
     "start_time": "2019-08-11T08:38:45.233477Z"
    }
   },
   "outputs": [
    {
     "name": "stdout",
     "output_type": "stream",
     "text": [
      "用户名>>:Albert\n",
      "密码>>:1\n",
      "登录成功\n",
      "welcome to index page\n",
      "已经登录过了\n",
      "welcome Chen to home page\n"
     ]
    }
   ],
   "source": [
    "current_user = {'username':None}\n",
    "\n",
    "def auth(func):\n",
    "    def wrapper(*args, **kwargs):\n",
    "        if current_user['username']:\n",
    "            print(\"已经登录过了\")\n",
    "            res = func(*args, **kwargs)\n",
    "            return res\n",
    "        \n",
    "        name = input(\"用户名>>:\").strip()\n",
    "        pwd = input(\"密码>>:\").strip()\n",
    "        if name == 'Albert' and pwd == '1':\n",
    "            print(\"登录成功\")\n",
    "            current_user['username'] = name\n",
    "            res = func(*args, **kwargs)\n",
    "            return res\n",
    "        else:\n",
    "            print(\"用户名或密码错误\")\n",
    "            \n",
    "    return wrapper\n",
    "\n",
    "@auth\n",
    "def index():\n",
    "    time.sleep(1)\n",
    "    print('welcome to index page')\n",
    "    return 1\n",
    "\n",
    "@auth\n",
    "def home(name):\n",
    "    time.sleep(2)\n",
    "    print('welcome %s to home page' % name)\n",
    "\n",
    "index()\n",
    "home('Chen')"
   ]
  },
  {
   "cell_type": "markdown",
   "metadata": {},
   "source": [
    "#### 多个装饰器叠加"
   ]
  },
  {
   "cell_type": "code",
   "execution_count": 13,
   "metadata": {
    "ExecuteTime": {
     "end_time": "2019-08-11T08:45:05.742785Z",
     "start_time": "2019-08-11T08:44:59.970667Z"
    }
   },
   "outputs": [
    {
     "name": "stdout",
     "output_type": "stream",
     "text": [
      "用户名>>:Albert\n",
      "密码>>:1\n",
      "登录成功\n",
      "welcome to index page\n",
      "5.761586904525757\n"
     ]
    },
    {
     "data": {
      "text/plain": [
       "1"
      ]
     },
     "execution_count": 13,
     "metadata": {},
     "output_type": "execute_result"
    }
   ],
   "source": [
    "import time\n",
    "\n",
    "current_user = {'username':None}\n",
    "\n",
    "def auth(func):\n",
    "    def wrapper(*args, **kwargs):\n",
    "        if current_user['username']:\n",
    "            print(\"已经登录过了\")\n",
    "            res = func(*args, **kwargs)\n",
    "            return res\n",
    "        \n",
    "        name = input(\"用户名>>:\").strip()\n",
    "        pwd = input(\"密码>>:\").strip()\n",
    "        if name == 'Albert' and pwd == '1':\n",
    "            print(\"登录成功\")\n",
    "            current_user['username'] = name\n",
    "            res = func(*args, **kwargs)\n",
    "            return res\n",
    "        else:\n",
    "            print(\"用户名或密码错误\")\n",
    "            \n",
    "    return wrapper\n",
    "\n",
    "def timer(func):\n",
    "    def wrapper(*args, **kwargs):\n",
    "        start_time = time.time()\n",
    "        res = func(*args, **kwargs)\n",
    "        stop_time = time.time()\n",
    "        print(stop_time - start_time)\n",
    "        return res\n",
    "    \n",
    "    return wrapper\n",
    "\n",
    "\"\"\"\n",
    "@auth\n",
    "@timer  # 这样的话timer只统计index的执行时间\n",
    "\"\"\"\n",
    "\n",
    "@timer   # timer统计的是auth+index的执行时间\n",
    "@auth\n",
    "def index():\n",
    "    time.sleep(1)\n",
    "    print('welcome to index page')\n",
    "    return 1\n",
    "\n",
    "index()"
   ]
  },
  {
   "cell_type": "markdown",
   "metadata": {},
   "source": [
    "### 有参装饰器"
   ]
  },
  {
   "cell_type": "code",
   "execution_count": 14,
   "metadata": {
    "ExecuteTime": {
     "end_time": "2019-08-11T09:31:38.189892Z",
     "start_time": "2019-08-11T09:31:30.461034Z"
    }
   },
   "outputs": [
    {
     "name": "stdout",
     "output_type": "stream",
     "text": [
      "基于文件的认证\n",
      "用户名>>:Albert\n",
      "密码>>:1\n",
      "登录成功\n",
      "welcome to index page\n"
     ]
    },
    {
     "data": {
      "text/plain": [
       "1"
      ]
     },
     "execution_count": 14,
     "metadata": {},
     "output_type": "execute_result"
    }
   ],
   "source": [
    "import time\n",
    "\n",
    "current_user = {'username':None}\n",
    "\n",
    "def auth(engine):\n",
    "    def user_auth(func):\n",
    "        def wrapper(*args, **kwargs):\n",
    "            if engine == 'file':\n",
    "                print(\"基于文件的认证\")\n",
    "                if current_user['username']:\n",
    "                    print(\"已经登录过了\")\n",
    "                    res = func(*args, **kwargs)\n",
    "                    return res\n",
    "\n",
    "                name = input(\"用户名>>:\").strip()\n",
    "                pwd = input(\"密码>>:\").strip()\n",
    "                if name == 'Albert' and pwd == '1':\n",
    "                    print(\"登录成功\")\n",
    "                    current_user['username'] = name\n",
    "                    res = func(*args, **kwargs)\n",
    "                    return res\n",
    "                else:\n",
    "                    print(\"用户名或密码错误\")\n",
    "            elif engine == 'mysql':\n",
    "                print(\"基于Mysql的认证\")\n",
    "            elif engine == 'ldap':\n",
    "                print(\"基于LDAP的认证\")\n",
    "            elif engine == 'postgresql':\n",
    "                print(\"基于PostgreSQL的认证\")\n",
    "            \n",
    "        return wrapper\n",
    "    \n",
    "    return user_auth\n",
    "\n",
    "@auth('file')   # auth装饰器本身是一个函数，在语法糖中也可以传参数\n",
    "def index():\n",
    "    time.sleep(1)\n",
    "    print('welcome to index page')\n",
    "    return 1\n",
    "\n",
    "index()\n",
    "    "
   ]
  },
  {
   "cell_type": "code",
   "execution_count": 24,
   "metadata": {
    "ExecuteTime": {
     "end_time": "2019-08-11T12:46:22.365961Z",
     "start_time": "2019-08-11T12:46:22.361165Z"
    }
   },
   "outputs": [
    {
     "name": "stdout",
     "output_type": "stream",
     "text": [
      "from index\n"
     ]
    }
   ],
   "source": [
    "from functools import wraps\n",
    "\n",
    "def deco(func):\n",
    "    @wraps(func)   # 加在最内层函数正上方\n",
    "    def wrapper(*args, **kwargs):\n",
    "        return func(*args, **kwargs)\n",
    "    \n",
    "    return wrapper\n",
    "\n",
    "@deco\n",
    "def index():\n",
    "    \"\"\"哈哈哈\"\"\"\n",
    "    print('from index')\n",
    "    \n",
    "    \n",
    "index()   "
   ]
  },
  {
   "cell_type": "code",
   "execution_count": null,
   "metadata": {},
   "outputs": [],
   "source": []
  }
 ],
 "metadata": {
  "hide_input": false,
  "kernelspec": {
   "display_name": "Python 3",
   "language": "python",
   "name": "python3"
  },
  "language_info": {
   "codemirror_mode": {
    "name": "ipython",
    "version": 3
   },
   "file_extension": ".py",
   "mimetype": "text/x-python",
   "name": "python",
   "nbconvert_exporter": "python",
   "pygments_lexer": "ipython3",
   "version": "3.6.5"
  },
  "toc": {
   "base_numbering": 1,
   "nav_menu": {},
   "number_sections": true,
   "sideBar": true,
   "skip_h1_title": false,
   "title_cell": "Table of Contents",
   "title_sidebar": "Contents",
   "toc_cell": false,
   "toc_position": {},
   "toc_section_display": true,
   "toc_window_display": false
  },
  "varInspector": {
   "cols": {
    "lenName": 16,
    "lenType": 16,
    "lenVar": 40
   },
   "kernels_config": {
    "python": {
     "delete_cmd_postfix": "",
     "delete_cmd_prefix": "del ",
     "library": "var_list.py",
     "varRefreshCmd": "print(var_dic_list())"
    },
    "r": {
     "delete_cmd_postfix": ") ",
     "delete_cmd_prefix": "rm(",
     "library": "var_list.r",
     "varRefreshCmd": "cat(var_dic_list()) "
    }
   },
   "types_to_exclude": [
    "module",
    "function",
    "builtin_function_or_method",
    "instance",
    "_Feature"
   ],
   "window_display": false
  }
 },
 "nbformat": 4,
 "nbformat_minor": 2
}
