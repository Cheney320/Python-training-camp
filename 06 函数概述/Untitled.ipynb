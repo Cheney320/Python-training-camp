{
 "cells": [
  {
   "cell_type": "markdown",
   "metadata": {},
   "source": [
    "### 可变长参数的基本使用"
   ]
  },
  {
   "cell_type": "code",
   "execution_count": 1,
   "metadata": {
    "ExecuteTime": {
     "end_time": "2019-08-10T04:23:47.471963Z",
     "start_time": "2019-08-10T04:23:47.468201Z"
    }
   },
   "outputs": [
    {
     "name": "stdout",
     "output_type": "stream",
     "text": [
      "1 2 3\n",
      "(4, 5, 6, 7, 8)\n"
     ]
    }
   ],
   "source": [
    "def foo(x,y,z,*args):\n",
    "    print(x,y,z)\n",
    "    print(args)\n",
    "    \n",
    "foo(1,2,3,4,5,6,7,8)"
   ]
  },
  {
   "cell_type": "code",
   "execution_count": 4,
   "metadata": {
    "ExecuteTime": {
     "end_time": "2019-08-10T04:32:00.896841Z",
     "start_time": "2019-08-10T04:32:00.892873Z"
    }
   },
   "outputs": [
    {
     "name": "stdout",
     "output_type": "stream",
     "text": [
      "1 2 3\n",
      "{'a': 4, 'b': 5, 'c': 6, 'd': 7, 'e': 8}\n"
     ]
    }
   ],
   "source": [
    "def foo(x,y,z,**kwargs):\n",
    "    print(x,y,z)\n",
    "    print(kwargs)\n",
    "    \n",
    "foo(1,2,3,a=4,b=5,c=6,d=7,e=8)"
   ]
  },
  {
   "cell_type": "code",
   "execution_count": 8,
   "metadata": {
    "ExecuteTime": {
     "end_time": "2019-08-10T04:38:17.899725Z",
     "start_time": "2019-08-10T04:38:17.895160Z"
    }
   },
   "outputs": [
    {
     "name": "stdout",
     "output_type": "stream",
     "text": [
      "1 2 3\n",
      "(4, 5, 6)\n",
      "1 2 3\n",
      "(7, 8, 9)\n",
      "1 2 3\n",
      "('h', 'e', 'l', 'l', 'o')\n"
     ]
    }
   ],
   "source": [
    "def foo(x,y,z,*args):\n",
    "    print(x,y,z)\n",
    "    print(args)\n",
    "foo(1,2,3,*[4,5,6])\n",
    "foo(1,2,3,*(7,8,9))\n",
    "foo(1,2,3,*'hello')"
   ]
  },
  {
   "cell_type": "code",
   "execution_count": 9,
   "metadata": {
    "ExecuteTime": {
     "end_time": "2019-08-10T04:42:03.351545Z",
     "start_time": "2019-08-10T04:42:03.347521Z"
    }
   },
   "outputs": [
    {
     "name": "stdout",
     "output_type": "stream",
     "text": [
      "1 2 3\n",
      "{'a': 1, 'b': 2, 'c': 3}\n"
     ]
    }
   ],
   "source": [
    "def foo(x,y,z,**kwargs):\n",
    "    print(x,y,z)\n",
    "    print(kwargs)\n",
    "    \n",
    "foo(1,2,3,**{'a':1,'b':2,'c':3})"
   ]
  },
  {
   "cell_type": "code",
   "execution_count": 10,
   "metadata": {
    "ExecuteTime": {
     "end_time": "2019-08-10T04:43:38.759460Z",
     "start_time": "2019-08-10T04:43:38.755199Z"
    }
   },
   "outputs": [
    {
     "name": "stdout",
     "output_type": "stream",
     "text": [
      "1 2 3\n"
     ]
    }
   ],
   "source": [
    "def boo(x,y,z):\n",
    "    print(x,y,z)\n",
    "    \n",
    "boo(1,**{'y':2,'z':3})"
   ]
  },
  {
   "cell_type": "code",
   "execution_count": 17,
   "metadata": {
    "ExecuteTime": {
     "end_time": "2019-08-10T04:51:30.989434Z",
     "start_time": "2019-08-10T04:51:30.985460Z"
    }
   },
   "outputs": [
    {
     "name": "stdout",
     "output_type": "stream",
     "text": [
      "45\n",
      "45\n"
     ]
    }
   ],
   "source": [
    "# *的应用场景\n",
    "def sum2(*args):\n",
    "    res = 0\n",
    "    for num in args:\n",
    "        res += num\n",
    "    return res\n",
    "\n",
    "print(sum2(*list(range(10))))\n",
    "print(sum2(1,2,3,4,5,6,7,8,9))"
   ]
  },
  {
   "cell_type": "code",
   "execution_count": 20,
   "metadata": {
    "ExecuteTime": {
     "end_time": "2019-08-10T04:54:36.473808Z",
     "start_time": "2019-08-10T04:54:36.469946Z"
    }
   },
   "outputs": [
    {
     "name": "stdout",
     "output_type": "stream",
     "text": [
      "Albert\n",
      "12345\n",
      "{'group': 'group1'}\n"
     ]
    }
   ],
   "source": [
    "# **的应用场景\n",
    "def sum3(name, pwd, **kwargs):\n",
    "    print(name)\n",
    "    print(pwd)\n",
    "    print(kwargs)\n",
    "    \n",
    "sum3('Albert', '12345', group='group1')"
   ]
  },
  {
   "cell_type": "code",
   "execution_count": 21,
   "metadata": {
    "ExecuteTime": {
     "end_time": "2019-08-10T07:37:28.868615Z",
     "start_time": "2019-08-10T07:37:28.864912Z"
    }
   },
   "outputs": [
    {
     "name": "stdout",
     "output_type": "stream",
     "text": [
      "welcome Albert 18 male\n"
     ]
    }
   ],
   "source": [
    "# 组合使用\n",
    "def index(name, age, gender):\n",
    "    print(\"welcome %s %s %s\"%(name, age, gender))\n",
    "    \n",
    "def wrapper(*args, **kwargs):\n",
    "    index(*args, **kwargs)\n",
    "    \n",
    "wrapper(name='Albert', age=18, gender='male')"
   ]
  },
  {
   "cell_type": "markdown",
   "metadata": {},
   "source": [
    "执行过程：\n",
    "wrapper的所有参数都原封不动地传给index,而index函数只接受三个位置参数，星与星星的组合使用在源码中非常常见，这也是装饰器的核心之一，非常重要。"
   ]
  },
  {
   "cell_type": "markdown",
   "metadata": {},
   "source": [
    "### 命名关键字参数"
   ]
  },
  {
   "cell_type": "code",
   "execution_count": 22,
   "metadata": {
    "ExecuteTime": {
     "end_time": "2019-08-10T07:57:02.987535Z",
     "start_time": "2019-08-10T07:57:02.981296Z"
    }
   },
   "outputs": [
    {
     "name": "stdout",
     "output_type": "stream",
     "text": [
      "Help on function auth in module __main__:\n",
      "\n",
      "auth(*args, **kwargs)\n",
      "    使用方式auth(name='Albert',pwd='123')\n",
      "    :param args:\n",
      "    :param kwargs:\n",
      "    :return:\n",
      "\n",
      "None\n"
     ]
    }
   ],
   "source": [
    "def auth(*args, **kwargs):\n",
    "    \"\"\"\n",
    "    使用方式auth(name='Albert',pwd='123')\n",
    "    :param args:\n",
    "    :param kwargs:\n",
    "    :return:\n",
    "    \"\"\"\n",
    "    if len(args) != 0:\n",
    "        print(\"必须用关键字的形式传参\")\n",
    "        return\n",
    "    if 'name' not in kwargs:\n",
    "        print('必须用指定的key名name')\n",
    "        return\n",
    "    if 'pwd' not in kwargs:\n",
    "        print('必须用指定的key名pwd')\n",
    "        return\n",
    "    \n",
    "    name = kwargs['name']\n",
    "    pwd = kwargs['pwd']\n",
    "    print(name, pwd)\n",
    "    \n",
    "print(help(auth))\n"
   ]
  },
  {
   "cell_type": "code",
   "execution_count": 23,
   "metadata": {
    "ExecuteTime": {
     "end_time": "2019-08-10T07:57:39.750884Z",
     "start_time": "2019-08-10T07:57:39.747636Z"
    }
   },
   "outputs": [
    {
     "name": "stdout",
     "output_type": "stream",
     "text": [
      "必须用指定的key名name\n"
     ]
    }
   ],
   "source": [
    "auth(x='Albert',y='123')"
   ]
  },
  {
   "cell_type": "code",
   "execution_count": 24,
   "metadata": {
    "ExecuteTime": {
     "end_time": "2019-08-10T07:58:07.165866Z",
     "start_time": "2019-08-10T07:58:07.162654Z"
    }
   },
   "outputs": [
    {
     "name": "stdout",
     "output_type": "stream",
     "text": [
      "必须用关键字的形式传参\n"
     ]
    }
   ],
   "source": [
    "auth('Albert', '123')"
   ]
  },
  {
   "cell_type": "code",
   "execution_count": 25,
   "metadata": {
    "ExecuteTime": {
     "end_time": "2019-08-10T07:58:33.727482Z",
     "start_time": "2019-08-10T07:58:33.724472Z"
    }
   },
   "outputs": [
    {
     "name": "stdout",
     "output_type": "stream",
     "text": [
      "必须用关键字的形式传参\n"
     ]
    }
   ],
   "source": [
    "auth('Albert', pwd='123')"
   ]
  },
  {
   "cell_type": "code",
   "execution_count": 26,
   "metadata": {
    "ExecuteTime": {
     "end_time": "2019-08-10T07:59:43.385625Z",
     "start_time": "2019-08-10T07:59:43.382328Z"
    }
   },
   "outputs": [
    {
     "name": "stdout",
     "output_type": "stream",
     "text": [
      "Albert 123\n"
     ]
    }
   ],
   "source": [
    "auth(name='Albert', pwd='123')  # 约束函数的调用者必须以key=value的形式传值"
   ]
  },
  {
   "cell_type": "code",
   "execution_count": 31,
   "metadata": {
    "ExecuteTime": {
     "end_time": "2019-08-10T08:07:56.631650Z",
     "start_time": "2019-08-10T08:07:56.627787Z"
    }
   },
   "outputs": [
    {
     "name": "stdout",
     "output_type": "stream",
     "text": [
      "1 2 3\n"
     ]
    }
   ],
   "source": [
    "# 使用命名关键字参数\n",
    "def foo(x, y, *, z):\n",
    "    print(x, y, z)\n",
    "    \n",
    "foo(1,2,z=3)"
   ]
  },
  {
   "cell_type": "code",
   "execution_count": 40,
   "metadata": {
    "ExecuteTime": {
     "end_time": "2019-08-10T08:14:18.573155Z",
     "start_time": "2019-08-10T08:14:18.569889Z"
    }
   },
   "outputs": [
    {
     "name": "stdout",
     "output_type": "stream",
     "text": [
      "Albert 123\n"
     ]
    }
   ],
   "source": [
    "# 其实命名关键字参数的核心是*, args只是一个变量，有或者没有并不影响\n",
    "def auth(*args, name, pwd):\n",
    "    print(name, pwd)\n",
    "    \n",
    "auth(name='Albert',pwd='123')"
   ]
  },
  {
   "cell_type": "code",
   "execution_count": 52,
   "metadata": {
    "ExecuteTime": {
     "end_time": "2019-08-10T09:06:50.368258Z",
     "start_time": "2019-08-10T09:06:50.362951Z"
    }
   },
   "outputs": [
    {
     "name": "stdout",
     "output_type": "stream",
     "text": [
      "1 2\n",
      "(3, 4, 5)\n",
      "3 4\n",
      "{'a': 3, 'b': 4}\n"
     ]
    }
   ],
   "source": [
    "# 使用命名关键字参数之后，可以接受参数的最复杂情况\n",
    "def foo(x, y=1, *args, z, m=2, **kwargs):\n",
    "    print(x,y)\n",
    "    print(args)\n",
    "    print(z,m)\n",
    "    print(kwargs)\n",
    "\n",
    "foo(1,2,3,4,5,z=3,m=4,a=3,b=4)"
   ]
  },
  {
   "cell_type": "code",
   "execution_count": null,
   "metadata": {},
   "outputs": [],
   "source": []
  }
 ],
 "metadata": {
  "hide_input": false,
  "kernelspec": {
   "display_name": "Python 3",
   "language": "python",
   "name": "python3"
  },
  "language_info": {
   "codemirror_mode": {
    "name": "ipython",
    "version": 3
   },
   "file_extension": ".py",
   "mimetype": "text/x-python",
   "name": "python",
   "nbconvert_exporter": "python",
   "pygments_lexer": "ipython3",
   "version": "3.6.5"
  },
  "toc": {
   "base_numbering": 1,
   "nav_menu": {},
   "number_sections": true,
   "sideBar": true,
   "skip_h1_title": false,
   "title_cell": "Table of Contents",
   "title_sidebar": "Contents",
   "toc_cell": false,
   "toc_position": {},
   "toc_section_display": true,
   "toc_window_display": false
  },
  "varInspector": {
   "cols": {
    "lenName": 16,
    "lenType": 16,
    "lenVar": 40
   },
   "kernels_config": {
    "python": {
     "delete_cmd_postfix": "",
     "delete_cmd_prefix": "del ",
     "library": "var_list.py",
     "varRefreshCmd": "print(var_dic_list())"
    },
    "r": {
     "delete_cmd_postfix": ") ",
     "delete_cmd_prefix": "rm(",
     "library": "var_list.r",
     "varRefreshCmd": "cat(var_dic_list()) "
    }
   },
   "types_to_exclude": [
    "module",
    "function",
    "builtin_function_or_method",
    "instance",
    "_Feature"
   ],
   "window_display": false
  }
 },
 "nbformat": 4,
 "nbformat_minor": 2
}
