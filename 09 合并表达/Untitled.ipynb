{
 "cells": [
  {
   "cell_type": "markdown",
   "metadata": {},
   "source": [
    "### 函数递归调用"
   ]
  },
  {
   "cell_type": "markdown",
   "metadata": {},
   "source": [
    "老师询问5位学生的年龄，第一位学生说，他比第二位学生大两岁，这时老师就问第二个学生，第二位学生说，他比第三位学生大两岁，问三，三说比四大两岁，问四，四说比五大两岁，问五，五说18岁。求这五位学生分别多少岁?"
   ]
  },
  {
   "cell_type": "code",
   "execution_count": 1,
   "metadata": {
    "ExecuteTime": {
     "end_time": "2019-08-12T06:50:49.198838Z",
     "start_time": "2019-08-12T06:50:49.189652Z"
    }
   },
   "outputs": [
    {
     "data": {
      "text/plain": [
       "26"
      ]
     },
     "execution_count": 1,
     "metadata": {},
     "output_type": "execute_result"
    }
   ],
   "source": [
    "def get_age(n):\n",
    "    if n==1:\n",
    "        return 18\n",
    "    return get_age(n-1) + 2\n",
    "\n",
    "get_age(5)"
   ]
  },
  {
   "cell_type": "markdown",
   "metadata": {},
   "source": [
    "### 递归的应用"
   ]
  },
  {
   "cell_type": "code",
   "execution_count": 3,
   "metadata": {
    "ExecuteTime": {
     "end_time": "2019-08-12T06:55:32.520133Z",
     "start_time": "2019-08-12T06:55:32.515876Z"
    }
   },
   "outputs": [
    {
     "name": "stdout",
     "output_type": "stream",
     "text": [
      "1\n",
      "2\n",
      "3\n",
      "4\n",
      "5\n",
      "6\n",
      "7\n",
      "8\n"
     ]
    }
   ],
   "source": [
    "# 要求，取出列表中的1，2，3，4，5，6...\n",
    "items = [1,[2,[3,[4,[5,[6,[7,[8,]]]]]]]]\n",
    "\n",
    "def tell(l):\n",
    "    for item in l:\n",
    "        if type(item) is not list:\n",
    "            print(item)\n",
    "        else:\n",
    "            tell(item)\n",
    "            \n",
    "tell(items)"
   ]
  },
  {
   "cell_type": "markdown",
   "metadata": {},
   "source": [
    "### 匿名函数"
   ]
  },
  {
   "cell_type": "code",
   "execution_count": 6,
   "metadata": {
    "ExecuteTime": {
     "end_time": "2019-08-12T07:05:42.988364Z",
     "start_time": "2019-08-12T07:05:42.982809Z"
    }
   },
   "outputs": [
    {
     "name": "stdout",
     "output_type": "stream",
     "text": [
      "harden\n",
      "kd\n",
      "['kd', 'zimuge', 'james', 'harden']\n",
      "['harden', 'james', 'zimuge', 'kd']\n"
     ]
    }
   ],
   "source": [
    "salaries = {\n",
    "    'james':30000000,\n",
    "    'kd':10000000,\n",
    "    'zimuge':20000000,\n",
    "    'harden':90000000\n",
    "}\n",
    "\n",
    "# 求工资最高的那个人\n",
    "print(max(salaries, key=lambda x:salaries[x]))\n",
    "\n",
    "# 求工资最低的那个人\n",
    "print(min(salaries, key=lambda x:salaries[x]))\n",
    "\n",
    "# 把这些人按薪资待遇排序\n",
    "salaries1 = sorted(salaries, key=lambda x:salaries[x])\n",
    "print(salaries1)\n",
    "\n",
    "# 降序\n",
    "salaries2 = sorted(salaries, key=lambda x:salaries[x], reverse=True)\n",
    "print(salaries2)\n",
    "\n"
   ]
  },
  {
   "cell_type": "code",
   "execution_count": 9,
   "metadata": {
    "ExecuteTime": {
     "end_time": "2019-08-12T07:17:20.496319Z",
     "start_time": "2019-08-12T07:17:20.491619Z"
    }
   },
   "outputs": [
    {
     "name": "stdout",
     "output_type": "stream",
     "text": [
      "<map object at 0x10de65ef0>\n",
      "[1, 4, 9, 16, 25]\n",
      "['James is super star', 'Harden is super star', 'Curry is super star']\n",
      "['James is super star', 'Harden is super star', 'Curry is super star', 'Albert is referee']\n"
     ]
    }
   ],
   "source": [
    "# 1 map\n",
    "# 数字映射\n",
    "nums = [1,2,3,4,5]\n",
    "res = map(lambda x:x**2, nums)\n",
    "print(res)\n",
    "print(list(res))\n",
    "\n",
    "# 字符串映射\n",
    "names = ['James','Harden','Curry']\n",
    "res = map(lambda x:x + ' is super star', names)\n",
    "print(list(res))\n",
    "\n",
    "names = ['James','Harden','Curry','Albert']\n",
    "res = map(lambda x:x + ' is referee' if x=='Albert' else x + ' is super star', names)\n",
    "print(list(res))"
   ]
  },
  {
   "cell_type": "code",
   "execution_count": 11,
   "metadata": {
    "ExecuteTime": {
     "end_time": "2019-08-12T07:28:55.787923Z",
     "start_time": "2019-08-12T07:28:55.783379Z"
    }
   },
   "outputs": [
    {
     "name": "stdout",
     "output_type": "stream",
     "text": [
      "5050\n",
      "5050\n",
      "Today is  the  first  day  of  the  rest  of  your \n"
     ]
    }
   ],
   "source": [
    "# 2 reduce\n",
    "from functools import reduce\n",
    "\n",
    "# 数字合并\n",
    "\"\"\"\n",
    "reduce可以传入三个参数:\n",
    "    第一个是必传项，指的合并规则，即函数\n",
    "    第二个是必传项，指的可迭代对象\n",
    "    第三个是可选项，指的初始值\n",
    "\"\"\"\n",
    "# 计算1+2+3+...+100\n",
    "res1 = reduce(lambda x,y:x+y,range(1,101),0)\n",
    "# 初始值给x，可迭代对象内的值给y，相加之和再作为初始值给x，可迭代对象内新的值给y\n",
    "print(res1)\n",
    "\n",
    "res = reduce(lambda x,y:x+y, range(1,101))\n",
    "# 不指定初始值，则由可迭代对象的第一个值作为初始值\n",
    "print(res)\n",
    "\n",
    "# 字符串合并\n",
    "list1 = ['Today','is','the','first','day','of','the','rest','of','your']\n",
    "res = reduce(lambda x,y:x + ' ' + y + ' ', list1)\n",
    "print(res)"
   ]
  },
  {
   "cell_type": "code",
   "execution_count": 13,
   "metadata": {
    "ExecuteTime": {
     "end_time": "2019-08-12T07:32:59.440718Z",
     "start_time": "2019-08-12T07:32:59.436182Z"
    }
   },
   "outputs": [
    {
     "name": "stdout",
     "output_type": "stream",
     "text": [
      "[99, 30]\n",
      "['Albert is referee']\n"
     ]
    }
   ],
   "source": [
    "# 3 filter\n",
    "# 过滤出年龄不小于30的\n",
    "ages = [18,19,10,23,99,30]\n",
    "res = filter(lambda n:n>=30, ages)\n",
    "print(list(res))\n",
    "\n",
    "# 过滤出裁判\n",
    "names = ['James is super star','Harden is super star','Albert is referee']\n",
    "res = filter(lambda x:x.endswith('referee'), names)\n",
    "print(list(res))"
   ]
  },
  {
   "cell_type": "code",
   "execution_count": 19,
   "metadata": {
    "ExecuteTime": {
     "end_time": "2019-08-13T16:10:12.396264Z",
     "start_time": "2019-08-13T16:10:12.393065Z"
    }
   },
   "outputs": [
    {
     "name": "stdout",
     "output_type": "stream",
     "text": [
      "['ALBERT', 'JAMES', 'KOBE', 'KD']\n"
     ]
    }
   ],
   "source": [
    "# 将names=['albert','james','kobe','kd']中的名字全部变大写\n",
    "names = ['albert','james','kobe','kd']\n",
    "# [name.upper() for name in names]\n",
    "\n",
    "res = map(lambda x:x.upper(), names)\n",
    "print(list(res))"
   ]
  },
  {
   "cell_type": "code",
   "execution_count": 28,
   "metadata": {
    "ExecuteTime": {
     "end_time": "2019-08-13T16:16:18.712444Z",
     "start_time": "2019-08-13T16:16:18.708823Z"
    }
   },
   "outputs": [
    {
     "name": "stdout",
     "output_type": "stream",
     "text": [
      "[6, 4, 2]\n"
     ]
    }
   ],
   "source": [
    "# 将names=['albert','jr_shenjing','kobe','kd']中以shenjing结尾的名字过滤掉，然后保存剩下的名字长度\n",
    "names = ['albert','jr_shenjing','kobe','kd']\n",
    "res1 = filter(lambda x:not x.endswith('shenjing'), names)\n",
    "res2 = map(lambda x:len(x), res1)\n",
    "print(list(res2))"
   ]
  },
  {
   "cell_type": "code",
   "execution_count": 35,
   "metadata": {
    "ExecuteTime": {
     "end_time": "2019-08-14T00:48:58.683992Z",
     "start_time": "2019-08-14T00:48:58.679948Z"
    }
   },
   "outputs": [
    {
     "name": "stdout",
     "output_type": "stream",
     "text": [
      "24\n"
     ]
    }
   ],
   "source": [
    "# 求文件a.txt中最长行的长度(长度按字符个数算，需要使用max函数)\n",
    "from functools import reduce\n",
    "\n",
    "with open('a.txt', 'r') as f:\n",
    "    content = f.readlines()\n",
    "    content = [len(i.strip('\\n')) for i in content]\n",
    "    res = reduce(lambda x,y:max(x,y), content)\n",
    "    print(res)"
   ]
  },
  {
   "cell_type": "code",
   "execution_count": 52,
   "metadata": {
    "ExecuteTime": {
     "end_time": "2019-08-14T01:27:35.652703Z",
     "start_time": "2019-08-14T01:27:35.646438Z"
    }
   },
   "outputs": [
    {
     "name": "stdout",
     "output_type": "stream",
     "text": [
      "10090200\n",
      "[{'name': 'mac', 'price': 20000, 'count': 3}, {'name': 'lenovo', 'price': 3000, 'count': 10}, {'name': 'bmw', 'price': 1000000, 'count': 10}, {'name': 'chiken', 'price': 200, 'count': 1}]\n",
      "[{'name': 'mac', 'price': 20000, 'count': 3}, {'name': 'bmw', 'price': 1000000, 'count': 10}]\n"
     ]
    }
   ],
   "source": [
    "\"\"\"\n",
    "文件shopping.txt内容如下，分别代表商品，价格和数量\n",
    "mac,20000,3\n",
    "lenovo,3000,10\n",
    "bmw,1000000,10\n",
    "chiken,200,1\n",
    "\"\"\"\n",
    "\n",
    "with open('shopping.txt','r') as f:\n",
    "    content = list(map(lambda x:x.strip('\\n'), f))\n",
    "    products = list(map(lambda x:x.split(','), content))\n",
    "\n",
    "# 求总共花了多少钱\n",
    "res1 = map(lambda x:eval(x[1])*eval(x[2]), products)  \n",
    "res1 = reduce(lambda x,y:x+y, res1)\n",
    "print(res1)\n",
    "\n",
    "# 打印出所有商品的信息，格式为[{'name':'xxx','price':333,'count':3},...]\n",
    "res2 = list(map(lambda x:{'name':x[0],'price':eval(x[1]),'count':eval(x[2])}, products))\n",
    "print(res2)\n",
    "\n",
    "# 求单价大于10000的商品信息，格式同上\n",
    "res3 = filter(lambda x:x['price']>10000, res2)\n",
    "print(list(res3))"
   ]
  },
  {
   "cell_type": "code",
   "execution_count": null,
   "metadata": {},
   "outputs": [],
   "source": []
  }
 ],
 "metadata": {
  "hide_input": false,
  "kernelspec": {
   "display_name": "Python 3",
   "language": "python",
   "name": "python3"
  },
  "language_info": {
   "codemirror_mode": {
    "name": "ipython",
    "version": 3
   },
   "file_extension": ".py",
   "mimetype": "text/x-python",
   "name": "python",
   "nbconvert_exporter": "python",
   "pygments_lexer": "ipython3",
   "version": "3.6.5"
  },
  "toc": {
   "base_numbering": 1,
   "nav_menu": {},
   "number_sections": true,
   "sideBar": true,
   "skip_h1_title": false,
   "title_cell": "Table of Contents",
   "title_sidebar": "Contents",
   "toc_cell": false,
   "toc_position": {},
   "toc_section_display": true,
   "toc_window_display": false
  },
  "varInspector": {
   "cols": {
    "lenName": 16,
    "lenType": 16,
    "lenVar": 40
   },
   "kernels_config": {
    "python": {
     "delete_cmd_postfix": "",
     "delete_cmd_prefix": "del ",
     "library": "var_list.py",
     "varRefreshCmd": "print(var_dic_list())"
    },
    "r": {
     "delete_cmd_postfix": ") ",
     "delete_cmd_prefix": "rm(",
     "library": "var_list.r",
     "varRefreshCmd": "cat(var_dic_list()) "
    }
   },
   "types_to_exclude": [
    "module",
    "function",
    "builtin_function_or_method",
    "instance",
    "_Feature"
   ],
   "window_display": false
  }
 },
 "nbformat": 4,
 "nbformat_minor": 2
}
